{
 "cells": [
  {
   "cell_type": "code",
   "execution_count": 2,
   "metadata": {},
   "outputs": [
    {
     "name": "stdout",
     "output_type": "stream",
     "text": [
      "[[0, 0], [1, 0], [0, 1], [1, 1]] result is  [0 0 0 1]\n",
      "right rate is  1.0\n"
     ]
    }
   ],
   "source": [
    "# -*- coding: utf-8 -*-\n",
    "\"\"\"\n",
    "Created on Tue Jul 26 00:42:09 2022\n",
    "\n",
    "@author: wmead\n",
    "\"\"\"\n",
    "\n",
    "from sklearn.svm import LinearSVC\n",
    "from sklearn.metrics import accuracy_score\n",
    "\n",
    "learn_data =[[0,0],[1,0],[0,1],[1,1]]\n",
    "learn_label=[0,0,0,1]\n",
    "clf=LinearSVC()\n",
    "\n",
    "clf.fit(learn_data,learn_label)\n",
    "\n",
    "test_data = [[0,0],[1,0],[0,1],[1,1]]\n",
    "test_label = clf.predict(test_data)\n",
    "\n",
    "print(test_data,\"result is \",test_label)\n",
    "print(\"right rate is \",accuracy_score([0,0,0,1],test_label))"
   ]
  }
 ],
 "metadata": {
  "kernelspec": {
   "display_name": "Python 3.9.12 ('ml')",
   "language": "python",
   "name": "python3"
  },
  "language_info": {
   "codemirror_mode": {
    "name": "ipython",
    "version": 3
   },
   "file_extension": ".py",
   "mimetype": "text/x-python",
   "name": "python",
   "nbconvert_exporter": "python",
   "pygments_lexer": "ipython3",
   "version": "3.9.12"
  },
  "orig_nbformat": 4,
  "vscode": {
   "interpreter": {
    "hash": "d076c9a21c6d20f2499ac2f833e02391f3071b5fe0ead22b97b4b85f484c4364"
   }
  }
 },
 "nbformat": 4,
 "nbformat_minor": 2
}
